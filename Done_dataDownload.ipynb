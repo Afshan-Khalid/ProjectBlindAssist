{
  "nbformat": 4,
  "nbformat_minor": 0,
  "metadata": {
    "colab": {
      "provenance": [],
      "gpuType": "T4",
      "authorship_tag": "ABX9TyPzHjFDrD2BLq0aUd3BWkly",
      "include_colab_link": true
    },
    "kernelspec": {
      "name": "python3",
      "display_name": "Python 3"
    },
    "language_info": {
      "name": "python"
    },
    "accelerator": "GPU"
  },
  "cells": [
    {
      "cell_type": "markdown",
      "metadata": {
        "id": "view-in-github",
        "colab_type": "text"
      },
      "source": [
        "<a href=\"https://colab.research.google.com/github/Afshan-Khalid/ProjectBlindAssist/blob/main/Done_dataDownload.ipynb\" target=\"_parent\"><img src=\"https://colab.research.google.com/assets/colab-badge.svg\" alt=\"Open In Colab\"/></a>"
      ]
    },
    {
      "cell_type": "code",
      "execution_count": 1,
      "metadata": {
        "colab": {
          "base_uri": "https://localhost:8080/"
        },
        "id": "25NDmRRBSzYf",
        "outputId": "acc4c0c6-4c06-4ef5-e5fc-24b6ed9d8d34"
      },
      "outputs": [
        {
          "output_type": "stream",
          "name": "stdout",
          "text": [
            "Drive already mounted at /content/gdrive/; to attempt to forcibly remount, call drive.mount(\"/content/gdrive/\", force_remount=True).\n"
          ]
        }
      ],
      "source": [
        "from google.colab import drive\n",
        "drive.mount('/content/gdrive/')"
      ]
    },
    {
      "cell_type": "code",
      "source": [
        "cd /content/gdrive/My Drive"
      ],
      "metadata": {
        "colab": {
          "base_uri": "https://localhost:8080/"
        },
        "id": "T8gUSl3LS5PN",
        "outputId": "98dace83-1651-4d46-fca5-a3db702b6eb8"
      },
      "execution_count": 2,
      "outputs": [
        {
          "output_type": "stream",
          "name": "stdout",
          "text": [
            "/content/gdrive/My Drive\n"
          ]
        }
      ]
    },
    {
      "cell_type": "code",
      "source": [
        "!mkdir OpenImages"
      ],
      "metadata": {
        "colab": {
          "base_uri": "https://localhost:8080/"
        },
        "id": "elE3-SThS9xk",
        "outputId": "470dcaa8-8889-455b-fac9-294d3a13cc03"
      },
      "execution_count": 43,
      "outputs": [
        {
          "output_type": "stream",
          "name": "stdout",
          "text": [
            "mkdir: cannot create directory ‘OpenImages’: File exists\n"
          ]
        }
      ]
    },
    {
      "cell_type": "code",
      "source": [
        "cd OpenImages"
      ],
      "metadata": {
        "colab": {
          "base_uri": "https://localhost:8080/"
        },
        "id": "RrGSXOwGTAqN",
        "outputId": "051206f1-3116-4f2b-cd70-d8c29e16846d"
      },
      "execution_count": 3,
      "outputs": [
        {
          "output_type": "stream",
          "name": "stdout",
          "text": [
            "/content/gdrive/MyDrive/OpenImages\n"
          ]
        }
      ]
    },
    {
      "cell_type": "code",
      "source": [
        "!pwd"
      ],
      "metadata": {
        "colab": {
          "base_uri": "https://localhost:8080/"
        },
        "id": "l6Czrgz5TDe9",
        "outputId": "9496ee15-d9cb-419c-e015-3f782be607d1"
      },
      "execution_count": 39,
      "outputs": [
        {
          "output_type": "stream",
          "name": "stdout",
          "text": [
            "/content/gdrive/My Drive/OpenImages\n"
          ]
        }
      ]
    },
    {
      "cell_type": "code",
      "source": [
        "# Download required meta-files\n",
        "!wget https://storage.googleapis.com/openimages/2018_04/class-descriptions-boxable.csv\n",
        "\n",
        "!wget https://storage.googleapis.com/openimages/2018_04/train/train-annotations-bbox.csv\n",
        "\n",
        "!wget https://storage.googleapis.com/openimages/2018_04/validation/validation-annotations-bbox.csv\n",
        "\n",
        "!wget https://storage.googleapis.com/openimages/2018_04/test/test-annotations-bbox.csv"
      ],
      "metadata": {
        "colab": {
          "base_uri": "https://localhost:8080/"
        },
        "collapsed": true,
        "id": "-CydkOT5TF4K",
        "outputId": "a2ad634d-94d8-446a-a001-7a14fc1203d8"
      },
      "execution_count": 47,
      "outputs": [
        {
          "output_type": "stream",
          "name": "stdout",
          "text": [
            "--2024-07-28 23:26:26--  https://storage.googleapis.com/openimages/2018_04/class-descriptions-boxable.csv\n",
            "Resolving storage.googleapis.com (storage.googleapis.com)... 172.253.117.207, 142.250.99.207, 74.125.20.207, ...\n",
            "Connecting to storage.googleapis.com (storage.googleapis.com)|172.253.117.207|:443... connected.\n",
            "HTTP request sent, awaiting response... 200 OK\n",
            "Length: 11255 (11K) [text/csv]\n",
            "Saving to: ‘class-descriptions-boxable.csv’\n",
            "\n",
            "\r          class-des   0%[                    ]       0  --.-KB/s               \rclass-descriptions- 100%[===================>]  10.99K  --.-KB/s    in 0.008s  \n",
            "\n",
            "2024-07-28 23:26:26 (1.41 MB/s) - ‘class-descriptions-boxable.csv’ saved [11255/11255]\n",
            "\n",
            "--2024-07-28 23:26:26--  https://storage.googleapis.com/openimages/2018_04/train/train-annotations-bbox.csv\n",
            "Resolving storage.googleapis.com (storage.googleapis.com)... 172.253.117.207, 142.250.99.207, 74.125.20.207, ...\n",
            "Connecting to storage.googleapis.com (storage.googleapis.com)|172.253.117.207|:443... connected.\n",
            "HTTP request sent, awaiting response... 200 OK\n",
            "Length: 1194033454 (1.1G) [text/csv]\n",
            "Saving to: ‘train-annotations-bbox.csv’\n",
            "\n",
            "train-annotations-b 100%[===================>]   1.11G  48.0MB/s    in 25s     \n",
            "\n",
            "2024-07-28 23:26:51 (46.0 MB/s) - ‘train-annotations-bbox.csv’ saved [1194033454/1194033454]\n",
            "\n",
            "--2024-07-28 23:26:51--  https://storage.googleapis.com/openimages/2018_04/validation/validation-annotations-bbox.csv\n",
            "Resolving storage.googleapis.com (storage.googleapis.com)... 172.253.117.207, 142.250.99.207, 74.125.20.207, ...\n",
            "Connecting to storage.googleapis.com (storage.googleapis.com)|172.253.117.207|:443... connected.\n",
            "HTTP request sent, awaiting response... 200 OK\n",
            "Length: 17074036 (16M) [text/csv]\n",
            "Saving to: ‘validation-annotations-bbox.csv’\n",
            "\n",
            "validation-annotati 100%[===================>]  16.28M  44.3MB/s    in 0.4s    \n",
            "\n",
            "2024-07-28 23:26:51 (44.3 MB/s) - ‘validation-annotations-bbox.csv’ saved [17074036/17074036]\n",
            "\n",
            "--2024-07-28 23:26:52--  https://storage.googleapis.com/openimages/2018_04/test/test-annotations-bbox.csv\n",
            "Resolving storage.googleapis.com (storage.googleapis.com)... 172.253.117.207, 142.250.99.207, 74.125.20.207, ...\n",
            "Connecting to storage.googleapis.com (storage.googleapis.com)|172.253.117.207|:443... connected.\n",
            "HTTP request sent, awaiting response... 200 OK\n",
            "Length: 52174204 (50M) [text/csv]\n",
            "Saving to: ‘test-annotations-bbox.csv’\n",
            "\n",
            "test-annotations-bb 100%[===================>]  49.76M  47.0MB/s    in 1.1s    \n",
            "\n",
            "2024-07-28 23:26:53 (47.0 MB/s) - ‘test-annotations-bbox.csv’ saved [52174204/52174204]\n",
            "\n"
          ]
        }
      ]
    },
    {
      "cell_type": "code",
      "source": [
        "!ls"
      ],
      "metadata": {
        "colab": {
          "base_uri": "https://localhost:8080/"
        },
        "id": "26NJXhauTRt3",
        "outputId": "46debd7e-e48d-4c62-ab31-4fc793be1a5b"
      },
      "execution_count": 40,
      "outputs": [
        {
          "output_type": "stream",
          "name": "stdout",
          "text": [
            "class-descriptions-boxable.csv\ttest-annotations-bbox.csv   train.tfrecord\n",
            "downloadOI.py\t\t\ttest.tfrecord\t\t    validation\n",
            "models\t\t\t\ttrain\t\t\t    validation-annotations-bbox.csv\n",
            "test\t\t\t\ttrain-annotations-bbox.csv  validation.tfrecord\n"
          ]
        }
      ]
    },
    {
      "cell_type": "code",
      "source": [
        "!pip install awscli"
      ],
      "metadata": {
        "colab": {
          "base_uri": "https://localhost:8080/"
        },
        "collapsed": true,
        "id": "yHKzf0kzTUUO",
        "outputId": "b363e08f-2dd3-4470-e737-a6ff3d9ed532"
      },
      "execution_count": 6,
      "outputs": [
        {
          "output_type": "stream",
          "name": "stdout",
          "text": [
            "Collecting awscli\n",
            "  Downloading awscli-1.33.31-py3-none-any.whl.metadata (11 kB)\n",
            "Collecting botocore==1.34.149 (from awscli)\n",
            "  Downloading botocore-1.34.149-py3-none-any.whl.metadata (5.7 kB)\n",
            "Collecting docutils<0.17,>=0.10 (from awscli)\n",
            "  Downloading docutils-0.16-py2.py3-none-any.whl.metadata (2.7 kB)\n",
            "Collecting s3transfer<0.11.0,>=0.10.0 (from awscli)\n",
            "  Downloading s3transfer-0.10.2-py3-none-any.whl.metadata (1.7 kB)\n",
            "Requirement already satisfied: PyYAML<6.1,>=3.10 in /usr/local/lib/python3.10/dist-packages (from awscli) (6.0.1)\n",
            "Collecting colorama<0.4.7,>=0.2.5 (from awscli)\n",
            "  Downloading colorama-0.4.6-py2.py3-none-any.whl.metadata (17 kB)\n",
            "Collecting rsa<4.8,>=3.1.2 (from awscli)\n",
            "  Downloading rsa-4.7.2-py3-none-any.whl.metadata (3.6 kB)\n",
            "Collecting jmespath<2.0.0,>=0.7.1 (from botocore==1.34.149->awscli)\n",
            "  Downloading jmespath-1.0.1-py3-none-any.whl.metadata (7.6 kB)\n",
            "Requirement already satisfied: python-dateutil<3.0.0,>=2.1 in /usr/local/lib/python3.10/dist-packages (from botocore==1.34.149->awscli) (2.8.2)\n",
            "Requirement already satisfied: urllib3!=2.2.0,<3,>=1.25.4 in /usr/local/lib/python3.10/dist-packages (from botocore==1.34.149->awscli) (2.0.7)\n",
            "Requirement already satisfied: pyasn1>=0.1.3 in /usr/local/lib/python3.10/dist-packages (from rsa<4.8,>=3.1.2->awscli) (0.6.0)\n",
            "Requirement already satisfied: six>=1.5 in /usr/local/lib/python3.10/dist-packages (from python-dateutil<3.0.0,>=2.1->botocore==1.34.149->awscli) (1.16.0)\n",
            "Downloading awscli-1.33.31-py3-none-any.whl (4.5 MB)\n",
            "\u001b[2K   \u001b[90m━━━━━━━━━━━━━━━━━━━━━━━━━━━━━━━━━━━━━━━━\u001b[0m \u001b[32m4.5/4.5 MB\u001b[0m \u001b[31m38.8 MB/s\u001b[0m eta \u001b[36m0:00:00\u001b[0m\n",
            "\u001b[?25hDownloading botocore-1.34.149-py3-none-any.whl (12.4 MB)\n",
            "\u001b[2K   \u001b[90m━━━━━━━━━━━━━━━━━━━━━━━━━━━━━━━━━━━━━━━━\u001b[0m \u001b[32m12.4/12.4 MB\u001b[0m \u001b[31m78.1 MB/s\u001b[0m eta \u001b[36m0:00:00\u001b[0m\n",
            "\u001b[?25hDownloading colorama-0.4.6-py2.py3-none-any.whl (25 kB)\n",
            "Downloading docutils-0.16-py2.py3-none-any.whl (548 kB)\n",
            "\u001b[2K   \u001b[90m━━━━━━━━━━━━━━━━━━━━━━━━━━━━━━━━━━━━━━━━\u001b[0m \u001b[32m548.2/548.2 kB\u001b[0m \u001b[31m20.9 MB/s\u001b[0m eta \u001b[36m0:00:00\u001b[0m\n",
            "\u001b[?25hDownloading rsa-4.7.2-py3-none-any.whl (34 kB)\n",
            "Downloading s3transfer-0.10.2-py3-none-any.whl (82 kB)\n",
            "\u001b[2K   \u001b[90m━━━━━━━━━━━━━━━━━━━━━━━━━━━━━━━━━━━━━━━━\u001b[0m \u001b[32m82.7/82.7 kB\u001b[0m \u001b[31m8.1 MB/s\u001b[0m eta \u001b[36m0:00:00\u001b[0m\n",
            "\u001b[?25hDownloading jmespath-1.0.1-py3-none-any.whl (20 kB)\n",
            "Installing collected packages: rsa, jmespath, docutils, colorama, botocore, s3transfer, awscli\n",
            "  Attempting uninstall: rsa\n",
            "    Found existing installation: rsa 4.9\n",
            "    Uninstalling rsa-4.9:\n",
            "      Successfully uninstalled rsa-4.9\n",
            "  Attempting uninstall: docutils\n",
            "    Found existing installation: docutils 0.21.2\n",
            "    Uninstalling docutils-0.21.2:\n",
            "      Successfully uninstalled docutils-0.21.2\n",
            "\u001b[31mERROR: pip's dependency resolver does not currently take into account all the packages that are installed. This behaviour is the source of the following dependency conflicts.\n",
            "readme-renderer 44.0 requires docutils>=0.21.2, but you have docutils 0.16 which is incompatible.\u001b[0m\u001b[31m\n",
            "\u001b[0mSuccessfully installed awscli-1.33.31 botocore-1.34.149 colorama-0.4.6 docutils-0.16 jmespath-1.0.1 rsa-4.7.2 s3transfer-0.10.2\n"
          ]
        }
      ]
    },
    {
      "cell_type": "code",
      "source": [
        "# This magic function is used to create the files.downloadOI.py is the file name\n",
        "%%writefile downloadOI.py\n",
        "\n",
        "\n",
        "#### Usage example: python3 downloadOI.py --classes 'Sink,Toilet' --mode test\n",
        "\n",
        "import argparse\n",
        "import csv\n",
        "import subprocess\n",
        "import os\n",
        "from tqdm import tqdm\n",
        "import multiprocessing\n",
        "from multiprocessing import Pool as thread_pool\n",
        "\n",
        "cpu_count = multiprocessing.cpu_count()\n",
        "\n",
        "parser = argparse.ArgumentParser(description='Download Class specific images from OpenImagesV4')\n",
        "parser.add_argument(\"--mode\", help=\"Dataset category - train, validation or test\", required=True)\n",
        "parser.add_argument(\"--classes\", help=\"Names of object classes to be downloaded\", required=True)\n",
        "parser.add_argument(\"--nthreads\", help=\"Number of threads to use\", required=False, type=int, default=cpu_count*2)\n",
        "parser.add_argument(\"--occluded\", help=\"Include occluded images\", required=False, type=int, default=1)\n",
        "parser.add_argument(\"--truncated\", help=\"Include truncated images\", required=False, type=int, default=1)\n",
        "parser.add_argument(\"--groupOf\", help=\"Include groupOf images\", required=False, type=int, default=1)\n",
        "parser.add_argument(\"--depiction\", help=\"Include depiction images\", required=False, type=int, default=1)\n",
        "parser.add_argument(\"--inside\", help=\"Include inside images\", required=False, type=int, default=1)\n",
        "\n",
        "args = parser.parse_args()\n",
        "\n",
        "run_mode = args.mode\n",
        "threads = args.nthreads\n",
        "classes = args.classes.split(',')\n",
        "\n",
        "# Single directory for all images\n",
        "output_dir = run_mode\n",
        "if not os.path.exists(output_dir):\n",
        "    os.makedirs(output_dir)\n",
        "\n",
        "with open('./class-descriptions-boxable.csv', mode='r') as infile:\n",
        "    reader = csv.reader(infile)\n",
        "    dict_list = {rows[1]:rows[0] for rows in reader}\n",
        "\n",
        "subprocess.run(['rm', '-rf', output_dir])\n",
        "subprocess.run(['mkdir', output_dir])\n",
        "\n",
        "pool = thread_pool(threads)\n",
        "commands = []\n",
        "cnt = 0\n",
        "\n",
        "# Initialize image count dictionary for each class\n",
        "class_image_count = {cls: 0 for cls in classes}\n",
        "\n",
        "for ind in range(len(classes)):\n",
        "    class_name = classes[ind]\n",
        "    print(f\"Class {ind} : {class_name}\")\n",
        "\n",
        "    command = f\"grep {dict_list[class_name.replace('_', ' ')]} ./{run_mode}-annotations-bbox.csv\"\n",
        "    class_annotations = subprocess.run(command.split(), stdout=subprocess.PIPE).stdout.decode('utf-8')\n",
        "    class_annotations = class_annotations.splitlines()\n",
        "\n",
        "    for line in class_annotations:\n",
        "        if class_image_count[class_name] >= 100:\n",
        "            print(f\"Reached 100 images for class {class_name}\")\n",
        "            break\n",
        "\n",
        "        line_parts = line.split(',')\n",
        "\n",
        "        # IsOccluded,IsTruncated,IsGroupOf,IsDepiction,IsInside\n",
        "        if (args.occluded == 0 and int(line_parts[8]) > 0):\n",
        "            print(f\"Skipped {line_parts[0]}\")\n",
        "            continue\n",
        "        if (args.truncated == 0 and int(line_parts[9]) > 0):\n",
        "            print(f\"Skipped {line_parts[0]}\")\n",
        "            continue\n",
        "        if (args.groupOf == 0 and int(line_parts[10]) > 0):\n",
        "            print(f\"Skipped {line_parts[0]}\")\n",
        "            continue\n",
        "        if (args.depiction == 0 and int(line_parts[11]) > 0):\n",
        "            print(f\"Skipped {line_parts[0]}\")\n",
        "            continue\n",
        "        if (args.inside == 0 and int(line_parts[12]) > 0):\n",
        "            print(f\"Skipped {line_parts[0]}\")\n",
        "            continue\n",
        "\n",
        "        cnt += 1\n",
        "        class_image_count[class_name] += 1\n",
        "\n",
        "        command = f'aws s3 --no-sign-request --only-show-errors cp s3://open-images-dataset/{run_mode}/{line_parts[0]}.jpg {output_dir}/{line_parts[0]}.jpg'\n",
        "        commands.append(command)\n",
        "\n",
        "        with open(f'{output_dir}/{line_parts[0]}.txt', 'a') as f:\n",
        "            f.write(','.join([class_name, line_parts[4], line_parts[5], line_parts[6], line_parts[7]]) + '\\n')\n",
        "\n",
        "    # Stop processing once 100 images have been collected for all classes\n",
        "    if all(count >= 100 for count in class_image_count.values()):\n",
        "        break\n",
        "\n",
        "print(f\"Annotation Count: {cnt}\")\n",
        "commands = list(set(commands))\n",
        "print(f\"Number of images to be downloaded: {len(commands)}\")\n",
        "\n",
        "list(tqdm(pool.imap(os.system, commands), total=len(commands)))\n",
        "\n",
        "pool.close()\n",
        "pool.join()\n"
      ],
      "metadata": {
        "colab": {
          "base_uri": "https://localhost:8080/"
        },
        "id": "8qtyMMDcs9fD",
        "outputId": "384b6c04-9afb-456e-fc73-6f6ef4794767"
      },
      "execution_count": 7,
      "outputs": [
        {
          "output_type": "stream",
          "name": "stdout",
          "text": [
            "Overwriting downloadOI.py\n"
          ]
        }
      ]
    },
    {
      "cell_type": "code",
      "source": [
        "# Download  images for test\n",
        "!python3 downloadOI.py --classes \"Stairs,Tree,House,Person,Cat,Dog,Traffic light,Box,Waste container\" --mode test\n",
        "\n",
        "# Download  images for train\n",
        "!python3 downloadOI.py --classes \"Stairs,Tree,House,Person,Cat,Dog,Traffic light,Box,Waste container\" --mode train\n",
        "\n",
        "# Download  images for validation\n",
        "!python3 downloadOI.py --classes \"Stairs,Tree,House,Person,Cat,Dog,Traffic light,Box,Waste container\" --mode validation\n"
      ],
      "metadata": {
        "colab": {
          "base_uri": "https://localhost:8080/"
        },
        "collapsed": true,
        "id": "DYSWjp5itEu7",
        "outputId": "58d5ab76-ddfc-4f4a-c654-76f9c5df5ecd"
      },
      "execution_count": 8,
      "outputs": [
        {
          "output_type": "stream",
          "name": "stdout",
          "text": [
            "Class 0 : Stairs\n",
            "Reached 100 images for class Stairs\n",
            "Class 1 : Tree\n",
            "Reached 100 images for class Tree\n",
            "Class 2 : House\n",
            "Reached 100 images for class House\n",
            "Class 3 : Person\n",
            "Reached 100 images for class Person\n",
            "Class 4 : Cat\n",
            "Reached 100 images for class Cat\n",
            "Class 5 : Dog\n",
            "Reached 100 images for class Dog\n",
            "Class 6 : Traffic light\n",
            "Reached 100 images for class Traffic light\n",
            "Class 7 : Box\n",
            "Reached 100 images for class Box\n",
            "Class 8 : Waste container\n",
            "Reached 100 images for class Waste container\n",
            "Annotation Count: 900\n",
            "Number of images to be downloaded: 587\n",
            "100% 587/587 [06:06<00:00,  1.60it/s]\n",
            "Class 0 : Stairs\n",
            "Reached 100 images for class Stairs\n",
            "Class 1 : Tree\n",
            "Reached 100 images for class Tree\n",
            "Class 2 : House\n",
            "Reached 100 images for class House\n",
            "Class 3 : Person\n",
            "Reached 100 images for class Person\n",
            "Class 4 : Cat\n",
            "Reached 100 images for class Cat\n",
            "Class 5 : Dog\n",
            "Reached 100 images for class Dog\n",
            "Class 6 : Traffic light\n",
            "Reached 100 images for class Traffic light\n",
            "Class 7 : Box\n",
            "Reached 100 images for class Box\n",
            "Class 8 : Waste container\n",
            "Reached 100 images for class Waste container\n",
            "Annotation Count: 900\n",
            "Number of images to be downloaded: 451\n",
            "100% 451/451 [04:44<00:00,  1.59it/s]\n",
            "Class 0 : Stairs\n",
            "Class 1 : Tree\n",
            "Reached 100 images for class Tree\n",
            "Class 2 : House\n",
            "Reached 100 images for class House\n",
            "Class 3 : Person\n",
            "Reached 100 images for class Person\n",
            "Class 4 : Cat\n",
            "Reached 100 images for class Cat\n",
            "Class 5 : Dog\n",
            "Reached 100 images for class Dog\n",
            "Class 6 : Traffic light\n",
            "Class 7 : Box\n",
            "Class 8 : Waste container\n",
            "Annotation Count: 699\n",
            "Number of images to be downloaded: 489\n",
            "100% 489/489 [05:04<00:00,  1.61it/s]\n"
          ]
        }
      ]
    },
    {
      "cell_type": "markdown",
      "source": [],
      "metadata": {
        "id": "DyOvj8KxvNA8"
      }
    }
  ]
}